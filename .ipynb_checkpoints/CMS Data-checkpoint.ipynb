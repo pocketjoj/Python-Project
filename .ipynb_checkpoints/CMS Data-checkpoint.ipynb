{
 "cells": [
  {
   "cell_type": "code",
   "execution_count": 1,
   "metadata": {},
   "outputs": [],
   "source": [
    "import json\n",
    "import requests"
   ]
  },
  {
   "cell_type": "code",
   "execution_count": 2,
   "metadata": {},
   "outputs": [],
   "source": [
    "#Formatted SoQL url to get all data from report by Surgical HCPCS (10004 - 69990)\n",
    "url = \"https://data.cms.gov/resource/2zuc-y5mm.json?$where=hcpcs_code between '10004' and '69990'&$limit=10000 \"\n",
    "request = requests.get(url)\n",
    "data = request.json()\n",
    "\n",
    "# Data taken from CMS API endpoint: https://data.cms.gov/resource/2zuc-y5mm.json\n",
    "# Documentation for API: https://dev.socrata.com/foundry/data.cms.gov/2zuc-y5mm"
   ]
  },
  {
   "cell_type": "code",
   "execution_count": 3,
   "metadata": {},
   "outputs": [
    {
     "data": {
      "text/plain": [
       "['59288',\n",
       " '106',\n",
       " '33',\n",
       " '3',\n",
       " '1',\n",
       " '5',\n",
       " '41',\n",
       " '2',\n",
       " '27655',\n",
       " '18',\n",
       " '6',\n",
       " '1960',\n",
       " '6',\n",
       " '328',\n",
       " '31',\n",
       " '1',\n",
       " '1',\n",
       " '1',\n",
       " '9404',\n",
       " '4',\n",
       " '219',\n",
       " '81',\n",
       " '1300',\n",
       " '23',\n",
       " '8946',\n",
       " '51',\n",
       " '79',\n",
       " '1',\n",
       " '1',\n",
       " '58',\n",
       " '23',\n",
       " '36',\n",
       " '25',\n",
       " '119',\n",
       " '733',\n",
       " '9',\n",
       " '10',\n",
       " '1',\n",
       " '3',\n",
       " '1068',\n",
       " '398',\n",
       " '22',\n",
       " '10',\n",
       " '2',\n",
       " '433',\n",
       " '7',\n",
       " '2110',\n",
       " '8',\n",
       " '7',\n",
       " '161',\n",
       " '11937',\n",
       " '1',\n",
       " '589',\n",
       " '8',\n",
       " '11',\n",
       " '1694',\n",
       " '966',\n",
       " '4',\n",
       " '345',\n",
       " '26',\n",
       " '1',\n",
       " '84',\n",
       " '97',\n",
       " '54',\n",
       " '13',\n",
       " '1211',\n",
       " '19',\n",
       " '4',\n",
       " '20',\n",
       " '914',\n",
       " '2',\n",
       " '9',\n",
       " '22',\n",
       " '3',\n",
       " '49',\n",
       " '1',\n",
       " '2',\n",
       " '103',\n",
       " '801',\n",
       " '30',\n",
       " '35',\n",
       " '41',\n",
       " '4',\n",
       " '1',\n",
       " '30',\n",
       " '1',\n",
       " '1',\n",
       " '2293',\n",
       " '8',\n",
       " '1',\n",
       " '6',\n",
       " '23',\n",
       " '12',\n",
       " '1',\n",
       " '23748',\n",
       " '3',\n",
       " '753',\n",
       " '244',\n",
       " '23',\n",
       " '10']"
      ]
     },
     "execution_count": 3,
     "metadata": {},
     "output_type": "execute_result"
    }
   ],
   "source": [
    "test_list[0:100]"
   ]
  },
  {
   "cell_type": "code",
   "execution_count": null,
   "metadata": {},
   "outputs": [],
   "source": []
  }
 ],
 "metadata": {
  "kernelspec": {
   "display_name": "Python 3",
   "language": "python",
   "name": "python3"
  },
  "language_info": {
   "codemirror_mode": {
    "name": "ipython",
    "version": 3
   },
   "file_extension": ".py",
   "mimetype": "text/x-python",
   "name": "python",
   "nbconvert_exporter": "python",
   "pygments_lexer": "ipython3",
   "version": "3.7.3"
  }
 },
 "nbformat": 4,
 "nbformat_minor": 2
}
