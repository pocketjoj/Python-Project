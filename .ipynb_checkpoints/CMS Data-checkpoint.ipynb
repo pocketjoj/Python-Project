{
 "cells": [
  {
   "cell_type": "code",
   "execution_count": 2,
   "metadata": {},
   "outputs": [],
   "source": [
    "import json\n",
    "import requests"
   ]
  },
  {
   "cell_type": "code",
   "execution_count": 21,
   "metadata": {},
   "outputs": [],
   "source": [
    "url = \"https://data.cms.gov/resource/2zuc-y5mm.json?$where=hcpcs_code between '10004' and '69990'&$limit=10000 \"\n",
    "request = requests.get(url)\n",
    "data = request.json()\n",
    "\n"
   ]
  },
  {
   "attachments": {},
   "cell_type": "markdown",
   "metadata": {},
   "source": [
    "# Medicare Data Set of Surgical HCPCS Codes Reported on Claims - 2017\n",
    "\n",
    "* CMS API Endpoint: https://data.cms.gov/resource/2zuc-y5mm.json\n",
    "* API Documentation: https://dev.socrata.com/foundry/data.cms.gov/2zuc-y5mm\n",
    "* Was able to use documentation to format the below SoQL query within my link to get a specific set of HPCPCS Codes (10004 - 69990, surgical codes):\n",
    "\"https://data.cms.gov/resource/2zuc-y5mm.json?$where=hcpcs_code between '10004' and '69990'&$limit=10000 \"\n",
    "\n",
    "\n",
    "## List of fields in Data Set:\n",
    "\n",
    "* HCPCS Code\t\n",
    "* HCPCS Description\t\n",
    "* HCPCS Drug Indicator\t\n",
    "* Place of Service\t\n",
    "* Number of Providers\t\n",
    "* Number of Services\t\n",
    "* Number of Unique \n",
    "* Beneficiary/Provider Interactions\t\n",
    "* Number of Distinct Medicare Beneficiary/Per Day Services\t\n",
    "* Average Submitted Charge Amount\t\n",
    "* Average Medicare Allowed Amount\t\n",
    "* Average Medicare Payment Amount\t\n",
    "* Average Medicare Standardized Payment Amount"
   ]
  },
  {
   "cell_type": "code",
   "execution_count": 27,
   "metadata": {},
   "outputs": [
    {
     "name": "stdout",
     "output_type": "stream",
     "text": [
      "{'hcpcs_code': '10021', 'hcpcs_description': 'Fine needle aspiration', 'hcpcs_drug_indicator': 'N', 'place_of_service': 'F', 'number_of_providers': '2438', 'number_of_services': '6298', 'number_of_unique_beneficiary_provider_interactions': '5953', 'number_of_distinct_medicare_beneficiary_per_day_services': '6083', 'average_submitted_charge_amount': '386.11', 'average_medicare_allowed_amount': '72.02', 'average_medicare_payment_amount': '54.72', 'average_medicare_standardized_payment_amount': '54.31'}\n"
     ]
    }
   ],
   "source": [
    "# Example of a HCPCS Code Dictionary Object\n",
    "print (data[0])\n",
    "\n"
   ]
  },
  {
   "cell_type": "markdown",
   "metadata": {},
   "source": [
    "## What data do I need for HCPCS code Class? \n",
    "\n",
    "* Code ('hcpcs_code')\n",
    "* Description ('hcpcs_description')\n",
    "* Number of Services\n",
    "* Average Charged Amount ('average_submitted_charge_amount'\n",
    "* Average Allowed Amount ('average_medicare_allowed_amount': '120.05')\n",
    "* Average Paid Amount ('average_medicare_standardized_payment_amount)\n",
    "* Drug ('hcpcs_drug_indicator')"
   ]
  },
  {
   "cell_type": "code",
   "execution_count": 28,
   "metadata": {},
   "outputs": [],
   "source": [
    "class Procedure:\n",
    "    def __init__(self, code, description, services, avg_charge, avg_allowed, avg_paid, drug):\n",
    "        self.code = code\n",
    "        self.description=description\n",
    "        self.services=services\n",
    "        self.avg_charge=avg_charge\n",
    "        self.avg_allowed=avg_allowed\n",
    "        self.drug=False\n",
    "    "
   ]
  },
  {
   "cell_type": "markdown",
   "metadata": {},
   "source": [
    "## Goals From Here:\n",
    "\n",
    "* Formulate all data into HCPCS Code classes that can be used in lists (one for Office, one for Facility) that can then be analyzed.\n",
    "* Analyze and visualize data using something like matplotlib to identify key data stories.\n"
   ]
  },
  {
   "cell_type": "code",
   "execution_count": 29,
   "metadata": {},
   "outputs": [],
   "source": [
    "def get_totals (list, text, result):\n",
    "    for i in list:\n",
    "        amount = int(i[\"number_of_services\"]) * float(i[text])\n",
    "        result.append((i[\"hcpcs_code\"], amount))\n",
    "    "
   ]
  },
  {
   "cell_type": "code",
   "execution_count": 30,
   "metadata": {},
   "outputs": [],
   "source": [
    "facility_data = []\n",
    "office_data = []\n",
    "\n",
    "for i in data:\n",
    "    if i[\"place_of_service\"] == \"F\":\n",
    "        facility_data.append(i)\n",
    "    elif i[\"place_of_service\"] == \"O\":\n",
    "        office_data.append(i)"
   ]
  },
  {
   "cell_type": "code",
   "execution_count": 31,
   "metadata": {},
   "outputs": [],
   "source": [
    "facility_total_paid = []\n",
    "get_totals(facility_data, \"average_medicare_standardized_payment_amount\", facility_total_paid)\n",
    "\n",
    "facility_total_allowed = []\n",
    "get_totals(facility_data, 'average_medicare_allowed_amount', facility_total_allowed)\n",
    "\n",
    "office_total_paid = []\n",
    "get_totals(office_data, \"average_medicare_standardized_payment_amount\", facility_total_paid)\n",
    "\n",
    "office_total_allowed = []\n",
    "get_totals(office_data, 'average_medicare_allowed_amount', office_total_allowed)\n"
   ]
  },
  {
   "cell_type": "code",
   "execution_count": null,
   "metadata": {},
   "outputs": [],
   "source": []
  },
  {
   "cell_type": "code",
   "execution_count": null,
   "metadata": {},
   "outputs": [],
   "source": []
  }
 ],
 "metadata": {
  "kernelspec": {
   "display_name": "Python 3",
   "language": "python",
   "name": "python3"
  },
  "language_info": {
   "codemirror_mode": {
    "name": "ipython",
    "version": 3
   },
   "file_extension": ".py",
   "mimetype": "text/x-python",
   "name": "python",
   "nbconvert_exporter": "python",
   "pygments_lexer": "ipython3",
   "version": "3.7.3"
  }
 },
 "nbformat": 4,
 "nbformat_minor": 2
}
